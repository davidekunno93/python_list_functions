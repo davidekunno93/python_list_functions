{
 "cells": [
  {
   "cell_type": "code",
   "execution_count": null,
   "id": "b0935a77",
   "metadata": {},
   "outputs": [],
   "source": [
    "# Given a list as a parameter,write a function that returns a list of numbers that are less than ten\n",
    "\n",
    "# Use the following list - [1,11,14,5,8,9]\n",
    "\n",
    "l_1 = [1,11,14,5,8,9]\n",
    "\n",
    "def less_than_10(lst):\n",
    "    # loop through list and return each number, if the number is less than 10\n",
    "    return [num for num in lst if num < 10]\n",
    "\n",
    "print(less_than_10(l_1))"
   ]
  },
  {
   "cell_type": "code",
   "execution_count": null,
   "id": "e6b7e947",
   "metadata": {},
   "outputs": [],
   "source": [
    "# Write a function that takes in two lists and returns the two lists merged together and sorted\n",
    "\n",
    "l_1 = [1,2,3,4,5,6]\n",
    "l_2 = [3,4,5,6,7,8,10]\n",
    "\n",
    "def merge_and_sort(lst1, lst2):\n",
    "    # merge lists\n",
    "    new_lst = lst1+lst2\n",
    "    # sort lists\n",
    "    new_lst.sort()\n",
    "    return new_lst\n",
    "\n",
    "print(merge_and_sort(l_1, l_2))"
   ]
  }
 ],
 "metadata": {
  "kernelspec": {
   "display_name": "Python 3 (ipykernel)",
   "language": "python",
   "name": "python3"
  },
  "language_info": {
   "codemirror_mode": {
    "name": "ipython",
    "version": 3
   },
   "file_extension": ".py",
   "mimetype": "text/x-python",
   "name": "python",
   "nbconvert_exporter": "python",
   "pygments_lexer": "ipython3",
   "version": "3.10.9"
  }
 },
 "nbformat": 4,
 "nbformat_minor": 5
}
